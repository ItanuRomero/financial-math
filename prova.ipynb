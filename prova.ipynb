{
  "nbformat": 4,
  "nbformat_minor": 0,
  "metadata": {
    "colab": {
      "provenance": [],
      "authorship_tag": "ABX9TyOjpMWebxkNOfpW8j+foIBd",
      "include_colab_link": true
    },
    "kernelspec": {
      "name": "python3",
      "display_name": "Python 3"
    },
    "language_info": {
      "name": "python"
    }
  },
  "cells": [
    {
      "cell_type": "markdown",
      "metadata": {
        "id": "view-in-github",
        "colab_type": "text"
      },
      "source": [
        "<a href=\"https://colab.research.google.com/github/ItanuRomero/financial-math/blob/main/prova.ipynb\" target=\"_parent\"><img src=\"https://colab.research.google.com/assets/colab-badge.svg\" alt=\"Open In Colab\"/></a>"
      ]
    },
    {
      "cell_type": "code",
      "execution_count": 1,
      "metadata": {
        "colab": {
          "base_uri": "https://localhost:8080/"
        },
        "id": "nToylU8E9Ze0",
        "outputId": "8e807cdc-a55a-45b4-b56c-03136f0d31c5"
      },
      "outputs": [
        {
          "output_type": "stream",
          "name": "stdout",
          "text": [
            "Looking in indexes: https://pypi.org/simple, https://us-python.pkg.dev/colab-wheels/public/simple/\n",
            "Requirement already satisfied: numpy_financial in /usr/local/lib/python3.10/dist-packages (1.0.0)\n",
            "Requirement already satisfied: numpy>=1.15 in /usr/local/lib/python3.10/dist-packages (from numpy_financial) (1.22.4)\n"
          ]
        }
      ],
      "source": [
        "!pip install numpy_financial"
      ]
    },
    {
      "cell_type": "code",
      "source": [
        "import numpy_financial as npf\n",
        "import numpy as np"
      ],
      "metadata": {
        "id": "zghgiuD-9ceE"
      },
      "execution_count": 2,
      "outputs": []
    },
    {
      "cell_type": "markdown",
      "source": [
        "4 - A"
      ],
      "metadata": {
        "id": "WnjvzcOf9f4A"
      }
    },
    {
      "cell_type": "code",
      "source": [
        "taxa = 0.012\n",
        "fluxo_4_A = []\n",
        "for i in range(0, 48):\n",
        "  fluxo_4_A.append(4000)\n",
        "fluxo_4_A_asarray = np.array(fluxo_4_A)"
      ],
      "metadata": {
        "id": "nvfxjhj19emu"
      },
      "execution_count": 3,
      "outputs": []
    },
    {
      "cell_type": "code",
      "source": [
        "npf.npv(taxa, fluxo_4_A_asarray)"
      ],
      "metadata": {
        "colab": {
          "base_uri": "https://localhost:8080/"
        },
        "id": "UrjxeRXJ-k6C",
        "outputId": "95ae993a-7d78-4b0a-d7b8-6c025e4fa4e4"
      },
      "execution_count": 4,
      "outputs": [
        {
          "output_type": "execute_result",
          "data": {
            "text/plain": [
              "147052.669619918"
            ]
          },
          "metadata": {},
          "execution_count": 4
        }
      ]
    },
    {
      "cell_type": "markdown",
      "source": [
        "4 - B"
      ],
      "metadata": {
        "id": "9_XlzTe5_ebo"
      }
    },
    {
      "cell_type": "code",
      "source": [
        "def taxa_equivalencia(i, n):\n",
        "  return ((1 + i) ** n) - 1"
      ],
      "metadata": {
        "id": "23Csk5xI-0Ks"
      },
      "execution_count": 5,
      "outputs": []
    },
    {
      "cell_type": "code",
      "source": [
        "taxa_4_B = taxa_equivalencia(0.05, 3)\n",
        "fluxo_4_B = []\n",
        "for i in range(0, 14):\n",
        "  fluxo_4_B.append(7000)\n",
        "fluxo_4_B_asarray = np.array(fluxo_4_B)"
      ],
      "metadata": {
        "id": "2CasoB8O_A9j"
      },
      "execution_count": 6,
      "outputs": []
    },
    {
      "cell_type": "code",
      "source": [
        "npf.npv(taxa_4_B, fluxo_4_B_asarray)"
      ],
      "metadata": {
        "colab": {
          "base_uri": "https://localhost:8080/"
        },
        "id": "mv0u7jZy_I8n",
        "outputId": "a444db29-7fc0-49f5-bd12-7610f564ef1f"
      },
      "execution_count": 7,
      "outputs": [
        {
          "output_type": "execute_result",
          "data": {
            "text/plain": [
              "44785.65732017735"
            ]
          },
          "metadata": {},
          "execution_count": 7
        }
      ]
    },
    {
      "cell_type": "markdown",
      "source": [
        "5"
      ],
      "metadata": {
        "id": "rbhJqKN-_fyp"
      }
    },
    {
      "cell_type": "code",
      "source": [
        "fluxo_5_A = np.array([-360000, 50000, 50000, 70000, 70000, 80000, 80000, 80000])\n",
        "npf.irr(fluxo_5_A)"
      ],
      "metadata": {
        "colab": {
          "base_uri": "https://localhost:8080/"
        },
        "id": "0mw2mQ9S_g7z",
        "outputId": "15dc92e8-148f-4bed-b733-3ec9384a4e22"
      },
      "execution_count": 8,
      "outputs": [
        {
          "output_type": "execute_result",
          "data": {
            "text/plain": [
              "0.07080870069566925"
            ]
          },
          "metadata": {},
          "execution_count": 8
        }
      ]
    },
    {
      "cell_type": "markdown",
      "source": [
        "6 - A"
      ],
      "metadata": {
        "id": "xcyBcSddA6Da"
      }
    },
    {
      "cell_type": "code",
      "source": [
        "fluxo_6 = np.array([-12000, 2000, 4000, 4000, 6000, 6000])"
      ],
      "metadata": {
        "id": "fPQrGlXbBX6g"
      },
      "execution_count": 9,
      "outputs": []
    },
    {
      "cell_type": "code",
      "source": [
        "taxa_6 = 0.15\n",
        "npf.npv(taxa_6, fluxo_6)"
      ],
      "metadata": {
        "colab": {
          "base_uri": "https://localhost:8080/"
        },
        "id": "t12GvRa0A-yh",
        "outputId": "9de66bc0-9c0a-4fcb-c044-8d479ecfee82"
      },
      "execution_count": 10,
      "outputs": [
        {
          "output_type": "execute_result",
          "data": {
            "text/plain": [
              "1807.3499190456464"
            ]
          },
          "metadata": {},
          "execution_count": 10
        }
      ]
    },
    {
      "cell_type": "markdown",
      "source": [
        "6 - B"
      ],
      "metadata": {
        "id": "liXa53q5BsWw"
      }
    },
    {
      "cell_type": "code",
      "source": [
        "npf.irr(fluxo_6)"
      ],
      "metadata": {
        "colab": {
          "base_uri": "https://localhost:8080/"
        },
        "id": "yarxAzHbBmla",
        "outputId": "b650a79a-c30c-480c-bec7-67d342524463"
      },
      "execution_count": 11,
      "outputs": [
        {
          "output_type": "execute_result",
          "data": {
            "text/plain": [
              "0.20204142452574025"
            ]
          },
          "metadata": {},
          "execution_count": 11
        }
      ]
    },
    {
      "cell_type": "markdown",
      "source": [
        "6 - C"
      ],
      "metadata": {
        "id": "P1fdM548ByI-"
      }
    },
    {
      "cell_type": "code",
      "source": [
        "def calculo_indice_de_lucratividade(valores: list, taxa: float,):\n",
        "  investimento = abs(valores[0])\n",
        "  retorno = valores[1:]\n",
        "  valor_presente = 0\n",
        "  for periodo in range(1, len(retorno) + 1):\n",
        "    valor_presente += retorno[periodo - 1] / ((1 + taxa) ** periodo)\n",
        "  return valor_presente / investimento"
      ],
      "metadata": {
        "id": "BhYPA9xDBzHi"
      },
      "execution_count": 12,
      "outputs": []
    },
    {
      "cell_type": "code",
      "source": [
        "calculo_indice_de_lucratividade(fluxo_6, taxa_6)"
      ],
      "metadata": {
        "colab": {
          "base_uri": "https://localhost:8080/"
        },
        "id": "psk8mWl1B2c7",
        "outputId": "0f8f6b7c-924b-4235-81e2-02dc9677054a"
      },
      "execution_count": 13,
      "outputs": [
        {
          "output_type": "execute_result",
          "data": {
            "text/plain": [
              "1.1506124932538038"
            ]
          },
          "metadata": {},
          "execution_count": 13
        }
      ]
    },
    {
      "cell_type": "markdown",
      "source": [
        "6 - D"
      ],
      "metadata": {
        "id": "kaVOr-IoB9N-"
      }
    },
    {
      "cell_type": "code",
      "source": [
        "def calculo_taxa_de_rentabilidade(valores: list, taxa: float):\n",
        "  investimento = abs(valores[0])\n",
        "  valor_presente_liquido = npf.npv(taxa, valores)\n",
        "  return valor_presente_liquido / investimento"
      ],
      "metadata": {
        "id": "ZJ6pzKupB1cC"
      },
      "execution_count": 14,
      "outputs": []
    },
    {
      "cell_type": "code",
      "source": [
        "calculo_taxa_de_rentabilidade(fluxo_6, taxa_6)"
      ],
      "metadata": {
        "colab": {
          "base_uri": "https://localhost:8080/"
        },
        "id": "ANy59X2YB_3K",
        "outputId": "e6737330-7498-436f-d302-111cf14503a3"
      },
      "execution_count": 15,
      "outputs": [
        {
          "output_type": "execute_result",
          "data": {
            "text/plain": [
              "0.15061249325380385"
            ]
          },
          "metadata": {},
          "execution_count": 15
        }
      ]
    }
  ]
}