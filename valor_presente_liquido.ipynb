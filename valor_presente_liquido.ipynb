{
  "nbformat": 4,
  "nbformat_minor": 0,
  "metadata": {
    "colab": {
      "provenance": [],
      "authorship_tag": "ABX9TyP2TUmWyxf+EengZnX7bOFT",
      "include_colab_link": true
    },
    "kernelspec": {
      "name": "python3",
      "display_name": "Python 3"
    },
    "language_info": {
      "name": "python"
    }
  },
  "cells": [
    {
      "cell_type": "markdown",
      "metadata": {
        "id": "view-in-github",
        "colab_type": "text"
      },
      "source": [
        "<a href=\"https://colab.research.google.com/github/ItanuRomero/financial-math/blob/main/valor_presente_liquido.ipynb\" target=\"_parent\"><img src=\"https://colab.research.google.com/assets/colab-badge.svg\" alt=\"Open In Colab\"/></a>"
      ]
    },
    {
      "cell_type": "markdown",
      "source": [
        "# Valor presente líquido"
      ],
      "metadata": {
        "id": "axkNMVzbuums"
      }
    },
    {
      "cell_type": "markdown",
      "source": [
        "Vamos primeiro considerar o cálculo do valor presente liquido, que considera taxa, investimento e uma lista de valores, de onde podemos retirar o período"
      ],
      "metadata": {
        "id": "H7LMdGH5zSG3"
      }
    },
    {
      "cell_type": "code",
      "execution_count": 1,
      "metadata": {
        "id": "_kXKvg8NtYOK"
      },
      "outputs": [],
      "source": [
        "def calculo_valor_presente_liquido(valores: list, taxa: float, investimento: float):\n",
        "  soma = 0\n",
        "  for periodo in range(1, len(valores) + 1):\n",
        "    soma += valores[periodo - 1] / ((1 + taxa) ** periodo)\n",
        "  return soma - investimento"
      ]
    },
    {
      "cell_type": "markdown",
      "source": [
        "Para calibrar a função, vamos adicionar o exemplo feito em aula"
      ],
      "metadata": {
        "id": "rqP90-E_zp7l"
      }
    },
    {
      "cell_type": "code",
      "source": [
        "calculo_valor_presente_liquido([250000, 320000, 380000, 280000], 0.2, 750000)"
      ],
      "metadata": {
        "colab": {
          "base_uri": "https://localhost:8080/"
        },
        "id": "eeJKyHcPxzpT",
        "outputId": "089cc857-0aa7-4112-f996-7d3085777858"
      },
      "execution_count": 2,
      "outputs": [
        {
          "output_type": "execute_result",
          "data": {
            "text/plain": [
              "35493.82716049394"
            ]
          },
          "metadata": {},
          "execution_count": 2
        }
      ]
    },
    {
      "cell_type": "markdown",
      "source": [
        "1. Uma empresa está avaliando um investimento em uma nova unidade de negócios. O\n",
        "valor a ser investido no momento zero atinge `$ 1.000.000,00` prevendo-se os seguintes fluxos de caixa ao final dos próximos 4 anos: `$150.000,00, $200.000,00, $900.000,00 e $ 1.100.000,00`.\n",
        "  \n",
        "  Admitindo que a empresa tenha definido em 20% ao ano a taxa de desconto dos fluxos\n",
        "  esperados de caixa, determinar o valor presente líquido.\n",
        "  - Qual o valor presente dos benefícios de caixa do investimento, para a taxa de\n",
        "  atratividade de 20% a.a.\n",
        "  - Índice de lucratividade (IL) e taxa de rentabilidade (TR)\n",
        "  - Utilizando o seu programa, obtenha o IRR."
      ],
      "metadata": {
        "id": "Gg3Gny-O0GVS"
      }
    },
    {
      "cell_type": "code",
      "source": [
        "calculo_valor_presente_liquido([150000, 200000, 900000, 1100000], 0.2, 1000000)"
      ],
      "metadata": {
        "colab": {
          "base_uri": "https://localhost:8080/"
        },
        "id": "5srdn8Ko0xkJ",
        "outputId": "f1adf44d-c1da-48a6-8bee-959b9ee07c3a"
      },
      "execution_count": 3,
      "outputs": [
        {
          "output_type": "execute_result",
          "data": {
            "text/plain": [
              "315200.61728395056"
            ]
          },
          "metadata": {},
          "execution_count": 3
        }
      ]
    },
    {
      "cell_type": "code",
      "source": [
        "def calculo_indice_de_lucratividade(valores: list, taxa: float, investimento: float):\n",
        "  valor_presente = 0\n",
        "  for periodo in range(1, len(valores) + 1):\n",
        "    valor_presente += valores[periodo - 1] / ((1 + taxa) ** periodo)\n",
        "  return valor_presente / investimento"
      ],
      "metadata": {
        "id": "RwC-GHvL2VKW"
      },
      "execution_count": 4,
      "outputs": []
    },
    {
      "cell_type": "code",
      "source": [
        "def calculo_taxa_de_rentabilidade(valores: list, taxa: float, investimento: float):\n",
        "  valor_presente_liquido = calculo_valor_presente_liquido(valores, taxa, investimento)\n",
        "  return valor_presente_liquido / investimento"
      ],
      "metadata": {
        "id": "EH1QzeH93CcP"
      },
      "execution_count": 5,
      "outputs": []
    },
    {
      "cell_type": "code",
      "source": [
        "!pip install numpy_financial"
      ],
      "metadata": {
        "colab": {
          "base_uri": "https://localhost:8080/"
        },
        "id": "6iIUx6R7_Iy_",
        "outputId": "55390432-0eee-416a-a505-31c79c65e2fa"
      },
      "execution_count": 6,
      "outputs": [
        {
          "output_type": "stream",
          "name": "stdout",
          "text": [
            "Looking in indexes: https://pypi.org/simple, https://us-python.pkg.dev/colab-wheels/public/simple/\n",
            "Requirement already satisfied: numpy_financial in /usr/local/lib/python3.10/dist-packages (1.0.0)\n",
            "Requirement already satisfied: numpy>=1.15 in /usr/local/lib/python3.10/dist-packages (from numpy_financial) (1.22.4)\n"
          ]
        }
      ]
    },
    {
      "cell_type": "code",
      "source": [
        "# para calcular o irr, podemos trazer o numpy_financial\n",
        "import numpy_financial as npf\n",
        "def calculo_taxa_interna_de_retorno(valores: list, investimento: float):\n",
        "  taxa = round(npf.irr([-investimento] + valores), 8)\n",
        "  return taxa"
      ],
      "metadata": {
        "id": "jOcST7VN64Re"
      },
      "execution_count": 7,
      "outputs": []
    },
    {
      "cell_type": "code",
      "source": [
        "calculo_indice_de_lucratividade([150000, 200000, 900000, 1100000], 0.2, 1000000)"
      ],
      "metadata": {
        "colab": {
          "base_uri": "https://localhost:8080/"
        },
        "id": "h6A2npro3Xjz",
        "outputId": "4114df82-3838-4c06-f6f9-dfa2f7ff150e"
      },
      "execution_count": 8,
      "outputs": [
        {
          "output_type": "execute_result",
          "data": {
            "text/plain": [
              "1.3152006172839505"
            ]
          },
          "metadata": {},
          "execution_count": 8
        }
      ]
    },
    {
      "cell_type": "code",
      "source": [
        "calculo_taxa_de_rentabilidade([150000, 200000, 900000, 1100000], 0.2, 1000000)"
      ],
      "metadata": {
        "colab": {
          "base_uri": "https://localhost:8080/"
        },
        "id": "bJn_4IUd4EJ3",
        "outputId": "bc041b29-8a19-434c-aac0-ae3e62fd0a68"
      },
      "execution_count": 9,
      "outputs": [
        {
          "output_type": "execute_result",
          "data": {
            "text/plain": [
              "0.31520061728395055"
            ]
          },
          "metadata": {},
          "execution_count": 9
        }
      ]
    },
    {
      "cell_type": "code",
      "source": [
        "taxa_interna_de_retorno = calculo_taxa_interna_de_retorno([150000, 200000, 900000, 1100000], 1000000)\n",
        "taxa_interna_de_retorno"
      ],
      "metadata": {
        "colab": {
          "base_uri": "https://localhost:8080/"
        },
        "id": "f_4YekmT__QN",
        "outputId": "a571e0c3-c9dc-4c75-c48a-02d4edae7a14"
      },
      "execution_count": 10,
      "outputs": [
        {
          "output_type": "execute_result",
          "data": {
            "text/plain": [
              "0.31211764"
            ]
          },
          "metadata": {},
          "execution_count": 10
        }
      ]
    },
    {
      "cell_type": "code",
      "source": [
        "# Para tirar a prova do cálculo da taxa interna, podemos usar a função de valor \n",
        "# presente liquido, esperando um valor próximo a zero se utilizarmos a taxa acima\n",
        "round(calculo_valor_presente_liquido([150000, 200000, 900000, 1100000], taxa_interna_de_retorno, 1000000), 1)"
      ],
      "metadata": {
        "colab": {
          "base_uri": "https://localhost:8080/"
        },
        "id": "AGxHu_BdAYW7",
        "outputId": "11eb2bbf-c696-4d64-8b6f-b52082b7693e"
      },
      "execution_count": 11,
      "outputs": [
        {
          "output_type": "execute_result",
          "data": {
            "text/plain": [
              "0.0"
            ]
          },
          "metadata": {},
          "execution_count": 11
        }
      ]
    },
    {
      "cell_type": "markdown",
      "source": [
        "Admita três projetos de investimento com as seguintes estimativas de fluxos de caixa:![image.png](data:image/png;base64,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)"
      ],
      "metadata": {
        "id": "6dJB_D93FKkX"
      }
    },
    {
      "cell_type": "markdown",
      "source": [
        "As alternativas de investimento são independentes, isto é, não há restrições de serem\n",
        "aceitas ao mesmo tempo desde que haja atratividade econômica. A taxa de retorno\n",
        "requerida é de 18% a.a. Determinar os resultados pelos métodos de análise de\n",
        "investimento: NPV, IRR, IL e TR."
      ],
      "metadata": {
        "id": "WLieiRz6GSLH"
      }
    },
    {
      "cell_type": "code",
      "source": [
        "# Para simplificar, utilizaremos o numpy financial, numpy e pandas\n",
        "import pandas as pd\n",
        "import numpy as np\n",
        "# e vamos limpar os avisos de atualização\n",
        "import warnings\n",
        "warnings.simplefilter(action='ignore', category=FutureWarning)\n",
        "# E vamos inicializar as variáveis\n",
        "projeto_A = np.array([-100, 30, 34, 35, 35, 38])\n",
        "projeto_B = np.array([-200, 68, 68, 66, 64, 64])\n",
        "projeto_C = np.array([-180, 50, 54, 58, 60, 62])\n",
        "TAXA = 0.18"
      ],
      "metadata": {
        "id": "017OloeOEcyO"
      },
      "execution_count": 29,
      "outputs": []
    },
    {
      "cell_type": "code",
      "source": [
        "# E inicializar a tabela\n",
        "df = pd.DataFrame(columns=['NPV', 'IRR', 'IL', 'TR', 'Decisão'])\n",
        "# inserindo os valores\n",
        "for projeto in [projeto_A, projeto_B, projeto_C]:\n",
        "  npv = npf.npv(TAXA, projeto)\n",
        "  irr = npf.irr(projeto)\n",
        "  il = calculo_indice_de_lucratividade(projeto[1:], TAXA, -projeto[0])\n",
        "  tr = calculo_taxa_de_rentabilidade(projeto[1:], TAXA, -projeto[0])\n",
        "  # Agora podemos colocar a decisão, mas acredito que seja simples, considerando\n",
        "  # que se o IL for menor que 1, o TR for menor que 0, ou o IRR for menor que a taxa\n",
        "  # utilizada, ou o NPV sendo negativo, o investimento não valerá a pena.\n",
        "  # o qual é o caso do projeto C\n",
        "  decisao = input(\n",
        "      f'Considerando os valores: NPV {round(npv, 2)}, ' \\\n",
        "      f'IL {round(il, 2)}, TR {round(tr, 2)} e IRR {round(irr, 2)}, ' \\\n",
        "      'qual a decisão? '\n",
        "      )\n",
        "  nova_linha = {\n",
        "      'NPV': npv, 'IRR': irr, 'IL': il, 'TR': tr, 'Decisão': decisao\n",
        "  }\n",
        "  df = df.append(nova_linha, ignore_index=True)"
      ],
      "metadata": {
        "colab": {
          "base_uri": "https://localhost:8080/"
        },
        "id": "C59cMS_sJKxM",
        "outputId": "6a3dd475-1e1d-45f6-c035-2cae34dd1a5e"
      },
      "execution_count": 48,
      "outputs": [
        {
          "name": "stdout",
          "output_type": "stream",
          "text": [
            "Considerando os valores: NPV 5.81, IL 1.06, TR 0.06 e IRR 0.2, qual a decisão? Positiva\n",
            "Considerando os valores: NPV 7.62, IL 1.04, TR 0.04 e IRR 0.2, qual a decisão? Positiva\n",
            "Considerando os valores: NPV -5.5, IL 0.97, TR -0.03 e IRR 0.17, qual a decisão? Negativa\n"
          ]
        }
      ]
    },
    {
      "cell_type": "code",
      "source": [
        "df"
      ],
      "metadata": {
        "colab": {
          "base_uri": "https://localhost:8080/",
          "height": 143
        },
        "id": "TuDz2fm-PkOn",
        "outputId": "435cf5f1-6738-4df6-fa1c-2ad8ad7d2b8b"
      },
      "execution_count": 49,
      "outputs": [
        {
          "output_type": "execute_result",
          "data": {
            "text/plain": [
              "        NPV       IRR        IL        TR   Decisão\n",
              "0  5.806841  0.204440  1.058068  0.058068  Positiva\n",
              "1  7.618775  0.196929  1.038094  0.038094  Positiva\n",
              "2 -5.496465  0.166961  0.969464 -0.030536  Negativa"
            ],
            "text/html": [
              "\n",
              "  <div id=\"df-a069f549-0f95-4d33-81d6-5f468670c656\">\n",
              "    <div class=\"colab-df-container\">\n",
              "      <div>\n",
              "<style scoped>\n",
              "    .dataframe tbody tr th:only-of-type {\n",
              "        vertical-align: middle;\n",
              "    }\n",
              "\n",
              "    .dataframe tbody tr th {\n",
              "        vertical-align: top;\n",
              "    }\n",
              "\n",
              "    .dataframe thead th {\n",
              "        text-align: right;\n",
              "    }\n",
              "</style>\n",
              "<table border=\"1\" class=\"dataframe\">\n",
              "  <thead>\n",
              "    <tr style=\"text-align: right;\">\n",
              "      <th></th>\n",
              "      <th>NPV</th>\n",
              "      <th>IRR</th>\n",
              "      <th>IL</th>\n",
              "      <th>TR</th>\n",
              "      <th>Decisão</th>\n",
              "    </tr>\n",
              "  </thead>\n",
              "  <tbody>\n",
              "    <tr>\n",
              "      <th>0</th>\n",
              "      <td>5.806841</td>\n",
              "      <td>0.204440</td>\n",
              "      <td>1.058068</td>\n",
              "      <td>0.058068</td>\n",
              "      <td>Positiva</td>\n",
              "    </tr>\n",
              "    <tr>\n",
              "      <th>1</th>\n",
              "      <td>7.618775</td>\n",
              "      <td>0.196929</td>\n",
              "      <td>1.038094</td>\n",
              "      <td>0.038094</td>\n",
              "      <td>Positiva</td>\n",
              "    </tr>\n",
              "    <tr>\n",
              "      <th>2</th>\n",
              "      <td>-5.496465</td>\n",
              "      <td>0.166961</td>\n",
              "      <td>0.969464</td>\n",
              "      <td>-0.030536</td>\n",
              "      <td>Negativa</td>\n",
              "    </tr>\n",
              "  </tbody>\n",
              "</table>\n",
              "</div>\n",
              "      <button class=\"colab-df-convert\" onclick=\"convertToInteractive('df-a069f549-0f95-4d33-81d6-5f468670c656')\"\n",
              "              title=\"Convert this dataframe to an interactive table.\"\n",
              "              style=\"display:none;\">\n",
              "        \n",
              "  <svg xmlns=\"http://www.w3.org/2000/svg\" height=\"24px\"viewBox=\"0 0 24 24\"\n",
              "       width=\"24px\">\n",
              "    <path d=\"M0 0h24v24H0V0z\" fill=\"none\"/>\n",
              "    <path d=\"M18.56 5.44l.94 2.06.94-2.06 2.06-.94-2.06-.94-.94-2.06-.94 2.06-2.06.94zm-11 1L8.5 8.5l.94-2.06 2.06-.94-2.06-.94L8.5 2.5l-.94 2.06-2.06.94zm10 10l.94 2.06.94-2.06 2.06-.94-2.06-.94-.94-2.06-.94 2.06-2.06.94z\"/><path d=\"M17.41 7.96l-1.37-1.37c-.4-.4-.92-.59-1.43-.59-.52 0-1.04.2-1.43.59L10.3 9.45l-7.72 7.72c-.78.78-.78 2.05 0 2.83L4 21.41c.39.39.9.59 1.41.59.51 0 1.02-.2 1.41-.59l7.78-7.78 2.81-2.81c.8-.78.8-2.07 0-2.86zM5.41 20L4 18.59l7.72-7.72 1.47 1.35L5.41 20z\"/>\n",
              "  </svg>\n",
              "      </button>\n",
              "      \n",
              "  <style>\n",
              "    .colab-df-container {\n",
              "      display:flex;\n",
              "      flex-wrap:wrap;\n",
              "      gap: 12px;\n",
              "    }\n",
              "\n",
              "    .colab-df-convert {\n",
              "      background-color: #E8F0FE;\n",
              "      border: none;\n",
              "      border-radius: 50%;\n",
              "      cursor: pointer;\n",
              "      display: none;\n",
              "      fill: #1967D2;\n",
              "      height: 32px;\n",
              "      padding: 0 0 0 0;\n",
              "      width: 32px;\n",
              "    }\n",
              "\n",
              "    .colab-df-convert:hover {\n",
              "      background-color: #E2EBFA;\n",
              "      box-shadow: 0px 1px 2px rgba(60, 64, 67, 0.3), 0px 1px 3px 1px rgba(60, 64, 67, 0.15);\n",
              "      fill: #174EA6;\n",
              "    }\n",
              "\n",
              "    [theme=dark] .colab-df-convert {\n",
              "      background-color: #3B4455;\n",
              "      fill: #D2E3FC;\n",
              "    }\n",
              "\n",
              "    [theme=dark] .colab-df-convert:hover {\n",
              "      background-color: #434B5C;\n",
              "      box-shadow: 0px 1px 3px 1px rgba(0, 0, 0, 0.15);\n",
              "      filter: drop-shadow(0px 1px 2px rgba(0, 0, 0, 0.3));\n",
              "      fill: #FFFFFF;\n",
              "    }\n",
              "  </style>\n",
              "\n",
              "      <script>\n",
              "        const buttonEl =\n",
              "          document.querySelector('#df-a069f549-0f95-4d33-81d6-5f468670c656 button.colab-df-convert');\n",
              "        buttonEl.style.display =\n",
              "          google.colab.kernel.accessAllowed ? 'block' : 'none';\n",
              "\n",
              "        async function convertToInteractive(key) {\n",
              "          const element = document.querySelector('#df-a069f549-0f95-4d33-81d6-5f468670c656');\n",
              "          const dataTable =\n",
              "            await google.colab.kernel.invokeFunction('convertToInteractive',\n",
              "                                                     [key], {});\n",
              "          if (!dataTable) return;\n",
              "\n",
              "          const docLinkHtml = 'Like what you see? Visit the ' +\n",
              "            '<a target=\"_blank\" href=https://colab.research.google.com/notebooks/data_table.ipynb>data table notebook</a>'\n",
              "            + ' to learn more about interactive tables.';\n",
              "          element.innerHTML = '';\n",
              "          dataTable['output_type'] = 'display_data';\n",
              "          await google.colab.output.renderOutput(dataTable, element);\n",
              "          const docLink = document.createElement('div');\n",
              "          docLink.innerHTML = docLinkHtml;\n",
              "          element.appendChild(docLink);\n",
              "        }\n",
              "      </script>\n",
              "    </div>\n",
              "  </div>\n",
              "  "
            ]
          },
          "metadata": {},
          "execution_count": 49
        }
      ]
    }
  ]
}